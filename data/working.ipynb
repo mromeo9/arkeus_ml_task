{
 "cells": [
  {
   "cell_type": "code",
   "execution_count": 1,
   "metadata": {},
   "outputs": [],
   "source": [
    "import numpy as np\n",
    "import pandas as pd\n",
    "import matplotlib.pyplot as plt"
   ]
  },
  {
   "cell_type": "markdown",
   "metadata": {},
   "source": [
    "Import the data"
   ]
  },
  {
   "cell_type": "code",
   "execution_count": 26,
   "metadata": {},
   "outputs": [
    {
     "data": {
      "text/html": [
       "<div>\n",
       "<style scoped>\n",
       "    .dataframe tbody tr th:only-of-type {\n",
       "        vertical-align: middle;\n",
       "    }\n",
       "\n",
       "    .dataframe tbody tr th {\n",
       "        vertical-align: top;\n",
       "    }\n",
       "\n",
       "    .dataframe thead th {\n",
       "        text-align: right;\n",
       "    }\n",
       "</style>\n",
       "<table border=\"1\" class=\"dataframe\">\n",
       "  <thead>\n",
       "    <tr style=\"text-align: right;\">\n",
       "      <th></th>\n",
       "      <th>A</th>\n",
       "      <th>B</th>\n",
       "      <th>C</th>\n",
       "      <th>D</th>\n",
       "      <th>E</th>\n",
       "      <th>F</th>\n",
       "      <th>G</th>\n",
       "      <th>H</th>\n",
       "      <th>I</th>\n",
       "      <th>J</th>\n",
       "      <th>...</th>\n",
       "      <th>AZ</th>\n",
       "      <th>BA</th>\n",
       "      <th>BB</th>\n",
       "      <th>BC</th>\n",
       "      <th>BD</th>\n",
       "      <th>BE</th>\n",
       "      <th>BF</th>\n",
       "      <th>BG</th>\n",
       "      <th>BH</th>\n",
       "      <th>Categories</th>\n",
       "    </tr>\n",
       "  </thead>\n",
       "  <tbody>\n",
       "    <tr>\n",
       "      <th>0</th>\n",
       "      <td>0.0294</td>\n",
       "      <td>0.0123</td>\n",
       "      <td>0.0117</td>\n",
       "      <td>0.0113</td>\n",
       "      <td>0.0497</td>\n",
       "      <td>0.0998</td>\n",
       "      <td>0.1326</td>\n",
       "      <td>0.1117</td>\n",
       "      <td>0.2984</td>\n",
       "      <td>0.3473</td>\n",
       "      <td>...</td>\n",
       "      <td>0.0056</td>\n",
       "      <td>0.0104</td>\n",
       "      <td>0.0079</td>\n",
       "      <td>0.0014</td>\n",
       "      <td>0.0054</td>\n",
       "      <td>0.0015</td>\n",
       "      <td>0.0006</td>\n",
       "      <td>0.0081</td>\n",
       "      <td>0.0043</td>\n",
       "      <td>BOAT</td>\n",
       "    </tr>\n",
       "    <tr>\n",
       "      <th>1</th>\n",
       "      <td>0.0093</td>\n",
       "      <td>0.0269</td>\n",
       "      <td>0.0217</td>\n",
       "      <td>0.0339</td>\n",
       "      <td>0.0305</td>\n",
       "      <td>0.1172</td>\n",
       "      <td>0.1450</td>\n",
       "      <td>0.0638</td>\n",
       "      <td>0.0740</td>\n",
       "      <td>0.1360</td>\n",
       "      <td>...</td>\n",
       "      <td>0.0212</td>\n",
       "      <td>0.0091</td>\n",
       "      <td>0.0056</td>\n",
       "      <td>0.0086</td>\n",
       "      <td>0.0092</td>\n",
       "      <td>0.0070</td>\n",
       "      <td>0.0116</td>\n",
       "      <td>0.0060</td>\n",
       "      <td>0.0110</td>\n",
       "      <td>CAR</td>\n",
       "    </tr>\n",
       "    <tr>\n",
       "      <th>2</th>\n",
       "      <td>0.0100</td>\n",
       "      <td>0.0171</td>\n",
       "      <td>0.0623</td>\n",
       "      <td>0.0205</td>\n",
       "      <td>0.0205</td>\n",
       "      <td>0.0368</td>\n",
       "      <td>0.1098</td>\n",
       "      <td>0.1276</td>\n",
       "      <td>0.0598</td>\n",
       "      <td>0.1264</td>\n",
       "      <td>...</td>\n",
       "      <td>0.0121</td>\n",
       "      <td>0.0036</td>\n",
       "      <td>0.0150</td>\n",
       "      <td>0.0085</td>\n",
       "      <td>0.0073</td>\n",
       "      <td>0.0050</td>\n",
       "      <td>0.0044</td>\n",
       "      <td>0.0040</td>\n",
       "      <td>0.0117</td>\n",
       "      <td>CAR</td>\n",
       "    </tr>\n",
       "    <tr>\n",
       "      <th>3</th>\n",
       "      <td>0.0197</td>\n",
       "      <td>0.0394</td>\n",
       "      <td>0.0384</td>\n",
       "      <td>0.0076</td>\n",
       "      <td>0.0251</td>\n",
       "      <td>0.0629</td>\n",
       "      <td>0.0747</td>\n",
       "      <td>0.0578</td>\n",
       "      <td>0.1357</td>\n",
       "      <td>0.1695</td>\n",
       "      <td>...</td>\n",
       "      <td>0.0134</td>\n",
       "      <td>0.0097</td>\n",
       "      <td>0.0042</td>\n",
       "      <td>0.0058</td>\n",
       "      <td>0.0072</td>\n",
       "      <td>0.0041</td>\n",
       "      <td>0.0045</td>\n",
       "      <td>0.0047</td>\n",
       "      <td>0.0054</td>\n",
       "      <td>BOAT</td>\n",
       "    </tr>\n",
       "    <tr>\n",
       "      <th>4</th>\n",
       "      <td>0.0201</td>\n",
       "      <td>0.0178</td>\n",
       "      <td>0.0274</td>\n",
       "      <td>0.0232</td>\n",
       "      <td>0.0724</td>\n",
       "      <td>0.0833</td>\n",
       "      <td>0.1232</td>\n",
       "      <td>0.1298</td>\n",
       "      <td>0.2085</td>\n",
       "      <td>0.2720</td>\n",
       "      <td>...</td>\n",
       "      <td>0.0131</td>\n",
       "      <td>0.0049</td>\n",
       "      <td>0.0104</td>\n",
       "      <td>0.0102</td>\n",
       "      <td>0.0092</td>\n",
       "      <td>0.0083</td>\n",
       "      <td>0.0020</td>\n",
       "      <td>0.0048</td>\n",
       "      <td>0.0036</td>\n",
       "      <td>BOAT</td>\n",
       "    </tr>\n",
       "  </tbody>\n",
       "</table>\n",
       "<p>5 rows × 61 columns</p>\n",
       "</div>"
      ],
      "text/plain": [
       "        A       B       C       D       E       F       G       H       I  \\\n",
       "0  0.0294  0.0123  0.0117  0.0113  0.0497  0.0998  0.1326  0.1117  0.2984   \n",
       "1  0.0093  0.0269  0.0217  0.0339  0.0305  0.1172  0.1450  0.0638  0.0740   \n",
       "2  0.0100  0.0171  0.0623  0.0205  0.0205  0.0368  0.1098  0.1276  0.0598   \n",
       "3  0.0197  0.0394  0.0384  0.0076  0.0251  0.0629  0.0747  0.0578  0.1357   \n",
       "4  0.0201  0.0178  0.0274  0.0232  0.0724  0.0833  0.1232  0.1298  0.2085   \n",
       "\n",
       "        J  ...      AZ      BA      BB      BC      BD      BE      BF  \\\n",
       "0  0.3473  ...  0.0056  0.0104  0.0079  0.0014  0.0054  0.0015  0.0006   \n",
       "1  0.1360  ...  0.0212  0.0091  0.0056  0.0086  0.0092  0.0070  0.0116   \n",
       "2  0.1264  ...  0.0121  0.0036  0.0150  0.0085  0.0073  0.0050  0.0044   \n",
       "3  0.1695  ...  0.0134  0.0097  0.0042  0.0058  0.0072  0.0041  0.0045   \n",
       "4  0.2720  ...  0.0131  0.0049  0.0104  0.0102  0.0092  0.0083  0.0020   \n",
       "\n",
       "       BG      BH  Categories  \n",
       "0  0.0081  0.0043        BOAT  \n",
       "1  0.0060  0.0110         CAR  \n",
       "2  0.0040  0.0117         CAR  \n",
       "3  0.0047  0.0054        BOAT  \n",
       "4  0.0048  0.0036        BOAT  \n",
       "\n",
       "[5 rows x 61 columns]"
      ]
     },
     "execution_count": 26,
     "metadata": {},
     "output_type": "execute_result"
    }
   ],
   "source": [
    "df = pd.read_csv(\"data.csv\")\n",
    "df.head()\n"
   ]
  },
  {
   "cell_type": "code",
   "execution_count": 27,
   "metadata": {},
   "outputs": [
    {
     "data": {
      "text/plain": [
       "(180, 61)"
      ]
     },
     "execution_count": 27,
     "metadata": {},
     "output_type": "execute_result"
    }
   ],
   "source": [
    "df.shape"
   ]
  },
  {
   "cell_type": "code",
   "execution_count": 28,
   "metadata": {},
   "outputs": [
    {
     "data": {
      "text/plain": [
       "A             0\n",
       "B             0\n",
       "C             0\n",
       "D             0\n",
       "E             0\n",
       "             ..\n",
       "BE            0\n",
       "BF            0\n",
       "BG            0\n",
       "BH            0\n",
       "Categories    0\n",
       "Length: 61, dtype: int64"
      ]
     },
     "execution_count": 28,
     "metadata": {},
     "output_type": "execute_result"
    }
   ],
   "source": [
    "df.isna().sum()"
   ]
  },
  {
   "cell_type": "code",
   "execution_count": 29,
   "metadata": {},
   "outputs": [
    {
     "data": {
      "text/plain": [
       "0"
      ]
     },
     "execution_count": 29,
     "metadata": {},
     "output_type": "execute_result"
    }
   ],
   "source": [
    "df.duplicated().sum()"
   ]
  },
  {
   "cell_type": "code",
   "execution_count": 30,
   "metadata": {},
   "outputs": [
    {
     "name": "stdout",
     "output_type": "stream",
     "text": [
      "<class 'pandas.core.frame.DataFrame'>\n",
      "RangeIndex: 180 entries, 0 to 179\n",
      "Data columns (total 61 columns):\n",
      " #   Column      Non-Null Count  Dtype  \n",
      "---  ------      --------------  -----  \n",
      " 0   A           180 non-null    float64\n",
      " 1   B           180 non-null    float64\n",
      " 2   C           180 non-null    float64\n",
      " 3   D           180 non-null    float64\n",
      " 4   E           180 non-null    float64\n",
      " 5   F           180 non-null    float64\n",
      " 6   G           180 non-null    float64\n",
      " 7   H           180 non-null    float64\n",
      " 8   I           180 non-null    float64\n",
      " 9   J           180 non-null    float64\n",
      " 10  K           180 non-null    float64\n",
      " 11  L           180 non-null    float64\n",
      " 12  M           180 non-null    float64\n",
      " 13  N           180 non-null    float64\n",
      " 14  O           180 non-null    float64\n",
      " 15  P           180 non-null    float64\n",
      " 16  Q           180 non-null    float64\n",
      " 17  R           180 non-null    float64\n",
      " 18  S           180 non-null    float64\n",
      " 19  T           180 non-null    float64\n",
      " 20  U           180 non-null    float64\n",
      " 21  V           180 non-null    float64\n",
      " 22  W           180 non-null    float64\n",
      " 23  X           180 non-null    float64\n",
      " 24  Y           180 non-null    float64\n",
      " 25  Z           180 non-null    float64\n",
      " 26  AA          180 non-null    float64\n",
      " 27  AB          180 non-null    float64\n",
      " 28  AC          180 non-null    float64\n",
      " 29  AD          180 non-null    float64\n",
      " 30  AE          180 non-null    float64\n",
      " 31  AF          180 non-null    float64\n",
      " 32  AG          180 non-null    float64\n",
      " 33  AH          180 non-null    float64\n",
      " 34  AI          180 non-null    float64\n",
      " 35  AJ          180 non-null    float64\n",
      " 36  AK          180 non-null    float64\n",
      " 37  AL          180 non-null    float64\n",
      " 38  AM          180 non-null    float64\n",
      " 39  AN          180 non-null    float64\n",
      " 40  AO          180 non-null    float64\n",
      " 41  AP          180 non-null    float64\n",
      " 42  AQ          180 non-null    float64\n",
      " 43  AR          180 non-null    float64\n",
      " 44  AS          180 non-null    float64\n",
      " 45  AT          180 non-null    float64\n",
      " 46  AU          180 non-null    float64\n",
      " 47  AV          180 non-null    float64\n",
      " 48  AW          180 non-null    float64\n",
      " 49  AX          180 non-null    float64\n",
      " 50  AY          180 non-null    float64\n",
      " 51  AZ          180 non-null    float64\n",
      " 52  BA          180 non-null    float64\n",
      " 53  BB          180 non-null    float64\n",
      " 54  BC          180 non-null    float64\n",
      " 55  BD          180 non-null    float64\n",
      " 56  BE          180 non-null    float64\n",
      " 57  BF          180 non-null    float64\n",
      " 58  BG          180 non-null    float64\n",
      " 59  BH          180 non-null    float64\n",
      " 60  Categories  180 non-null    object \n",
      "dtypes: float64(60), object(1)\n",
      "memory usage: 85.9+ KB\n"
     ]
    }
   ],
   "source": [
    "df.info()"
   ]
  },
  {
   "cell_type": "markdown",
   "metadata": {},
   "source": [
    "Splitting the numerical and categorical "
   ]
  },
  {
   "cell_type": "code",
   "execution_count": 58,
   "metadata": {},
   "outputs": [
    {
     "name": "stdout",
     "output_type": "stream",
     "text": [
      "Categories\n",
      "Index(['A', 'B', 'C', 'D', 'E', 'F', 'G', 'H', 'I', 'J', 'K', 'L', 'M', 'N',\n",
      "       'O', 'P', 'Q', 'R', 'S', 'T', 'U', 'V', 'W', 'X', 'Y', 'Z', 'AA', 'AB',\n",
      "       'AC', 'AD', 'AE', 'AF', 'AG', 'AH', 'AI', 'AJ', 'AK', 'AL', 'AM', 'AN',\n",
      "       'AO', 'AP', 'AQ', 'AR', 'AS', 'AT', 'AU', 'AV', 'AW', 'AX', 'AY', 'AZ',\n",
      "       'BA', 'BB', 'BC', 'BD', 'BE', 'BF', 'BG', 'BH'],\n",
      "      dtype='object')\n"
     ]
    }
   ],
   "source": [
    "X = df.drop(columns=['Categories'], axis=1)\n",
    "Y = df['Categories']\n",
    "print(Y.name)\n",
    "print(X.columns)"
   ]
  },
  {
   "cell_type": "markdown",
   "metadata": {},
   "source": [
    "Preprocessing transformers "
   ]
  },
  {
   "cell_type": "code",
   "execution_count": 104,
   "metadata": {},
   "outputs": [],
   "source": [
    "from sklearn.preprocessing import StandardScaler, LabelEncoder\n",
    "\n",
    "y_processor = LabelEncoder()\n",
    "y = y_processor.fit_transform(Y)\n",
    "\n",
    "x_processor = StandardScaler()\n",
    "x = x_processor.fit_transform(X)\n"
   ]
  },
  {
   "cell_type": "code",
   "execution_count": 107,
   "metadata": {},
   "outputs": [
    {
     "data": {
      "text/plain": [
       "((144, 60), (144,))"
      ]
     },
     "execution_count": 107,
     "metadata": {},
     "output_type": "execute_result"
    }
   ],
   "source": [
    "# separate dataset into train and test\n",
    "from sklearn.model_selection import train_test_split\n",
    "X_train, X_test, y_train, y_test = train_test_split(x,y,test_size=0.2,random_state=9)\n",
    "X_train.shape, y_train.shape"
   ]
  },
  {
   "cell_type": "markdown",
   "metadata": {},
   "source": [
    "Evaluation metrics "
   ]
  },
  {
   "cell_type": "code",
   "execution_count": 124,
   "metadata": {},
   "outputs": [],
   "source": [
    "from sklearn.metrics import f1_score, precision_score, accuracy_score, recall_score\n",
    "\n",
    "def evaluation(y_true, y_pred):\n",
    "    f1 = f1_score(y_true, y_pred, average='micro')\n",
    "    accuracy = accuracy_score(y_true, y_pred)\n",
    "    precision = precision_score(y_true, y_pred, average='micro')\n",
    "    recall = recall_score(y_true, y_pred, average='micro')\n",
    "    return f1, accuracy, precision, recall"
   ]
  },
  {
   "cell_type": "markdown",
   "metadata": {},
   "source": [
    "Model training"
   ]
  },
  {
   "cell_type": "code",
   "execution_count": 109,
   "metadata": {},
   "outputs": [],
   "source": [
    "from sklearn.neighbors import KNeighborsClassifier\n",
    "from sklearn.tree import DecisionTreeClassifier\n",
    "from sklearn.svm import SVC\n",
    "from sklearn.ensemble import RandomForestClassifier\n",
    "\n"
   ]
  },
  {
   "cell_type": "code",
   "execution_count": 125,
   "metadata": {},
   "outputs": [
    {
     "name": "stdout",
     "output_type": "stream",
     "text": [
      "K-Neighbours\n",
      "Model performance for Training set\n",
      "- F1 score: 0.8750\n",
      "- Accuracy: 0.8750\n",
      "- Precision: 0.8750\n",
      "- Recall: 0.8750\n",
      "----------------------------------\n",
      "Model performance for Test set\n",
      "- F1 score: 0.8333\n",
      "- Accuracy: 0.8333\n",
      "- Precision: 0.8333\n",
      "- Recall: 0.8750\n",
      "===================================\n",
      "\n",
      "\n",
      "Decision Tree\n",
      "Model performance for Training set\n",
      "- F1 score: 1.0000\n",
      "- Accuracy: 1.0000\n",
      "- Precision: 1.0000\n",
      "- Recall: 1.0000\n",
      "----------------------------------\n",
      "Model performance for Test set\n",
      "- F1 score: 0.5833\n",
      "- Accuracy: 0.5833\n",
      "- Precision: 0.5833\n",
      "- Recall: 1.0000\n",
      "===================================\n",
      "\n",
      "\n",
      "Support Vector\n",
      "Model performance for Training set\n",
      "- F1 score: 0.9861\n",
      "- Accuracy: 0.9861\n",
      "- Precision: 0.9861\n",
      "- Recall: 0.9861\n",
      "----------------------------------\n",
      "Model performance for Test set\n",
      "- F1 score: 0.8333\n",
      "- Accuracy: 0.8333\n",
      "- Precision: 0.8333\n",
      "- Recall: 0.9861\n",
      "===================================\n",
      "\n",
      "\n",
      "Random Forest\n",
      "Model performance for Training set\n",
      "- F1 score: 1.0000\n",
      "- Accuracy: 1.0000\n",
      "- Precision: 1.0000\n",
      "- Recall: 1.0000\n",
      "----------------------------------\n",
      "Model performance for Test set\n",
      "- F1 score: 0.8056\n",
      "- Accuracy: 0.8056\n",
      "- Precision: 0.8056\n",
      "- Recall: 1.0000\n",
      "===================================\n",
      "\n",
      "\n"
     ]
    }
   ],
   "source": [
    "models = {\n",
    "    \"K-Neighbours\": KNeighborsClassifier(),\n",
    "    \"Decision Tree\": DecisionTreeClassifier(),\n",
    "    \"Support Vector\": SVC(),\n",
    "    \"Random Forest\": RandomForestClassifier()\n",
    "}\n",
    "\n",
    "model_list = list(models.values())\n",
    "\n",
    "for i in range(len(model_list)):\n",
    "    model = model_list[i]\n",
    "    model.fit(X_train, y_train)\n",
    "\n",
    "    y_train_pred = model.predict(X_train)\n",
    "    y_test_pred = model.predict(X_test)\n",
    "\n",
    "    f1_train, accuracy_train, precision_train, recall_train = evaluation(y_train, y_train_pred)\n",
    "    f1_test, accuracy_test, precision_test, recall_test = evaluation(y_test, y_test_pred)\n",
    "\n",
    "\n",
    "    print(list(models.keys())[i])\n",
    "    \n",
    "    print('Model performance for Training set')\n",
    "    print(\"- F1 score: {:.4f}\".format(f1_train))\n",
    "    print(\"- Accuracy: {:.4f}\".format(accuracy_train))\n",
    "    print(\"- Precision: {:.4f}\".format(precision_train))\n",
    "    print(\"- Recall: {:.4f}\".format(recall_train))\n",
    "\n",
    "    print('----------------------------------')\n",
    "    \n",
    "    print('Model performance for Test set')\n",
    "    print(\"- F1 score: {:.4f}\".format(f1_test))\n",
    "    print(\"- Accuracy: {:.4f}\".format(accuracy_test))\n",
    "    print(\"- Precision: {:.4f}\".format(precision_test))\n",
    "    print(\"- Recall: {:.4f}\".format(recall_train))\n",
    "\n",
    "    print('='*35)\n",
    "    print('\\n')"
   ]
  }
 ],
 "metadata": {
  "kernelspec": {
   "display_name": "Python 3",
   "language": "python",
   "name": "python3"
  },
  "language_info": {
   "codemirror_mode": {
    "name": "ipython",
    "version": 3
   },
   "file_extension": ".py",
   "mimetype": "text/x-python",
   "name": "python",
   "nbconvert_exporter": "python",
   "pygments_lexer": "ipython3",
   "version": "3.8.0"
  }
 },
 "nbformat": 4,
 "nbformat_minor": 2
}
